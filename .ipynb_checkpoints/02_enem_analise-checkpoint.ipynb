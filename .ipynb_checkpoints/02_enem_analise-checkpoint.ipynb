{
 "cells": [
  {
   "cell_type": "markdown",
   "metadata": {},
   "source": [
    "# Análise de Dados Enem 2019"
   ]
  },
  {
   "cell_type": "code",
   "execution_count": 1,
   "metadata": {},
   "outputs": [],
   "source": [
    "# Importação bibliotecas necessárias\n",
    "import pandas as pd\n",
    "import numpy as np\n",
    "import zipfile\n",
    "import requests\n",
    "from io import BytesIO\n",
    "import os"
   ]
  },
  {
   "cell_type": "code",
   "execution_count": 2,
   "metadata": {},
   "outputs": [],
   "source": [
    "# Lê os dados dos alunos de minas gerais no enem 2019\n",
    "enem = pd.read_csv(\n",
    "    './enem_mg.csv',\n",
    "    sep = ';', decimal = ',', encoding = 'ISO-8859-1'\n",
    ")"
   ]
  },
  {
   "cell_type": "code",
   "execution_count": 3,
   "metadata": {},
   "outputs": [
    {
     "data": {
      "text/plain": [
       "546.7962076512125"
      ]
     },
     "execution_count": 3,
     "metadata": {},
     "output_type": "execute_result"
    }
   ],
   "source": [
    "# Média das notas de matemática de todos os alunos\n",
    "pd.to_numeric(enem.NU_NOTA_MT).mean()"
   ]
  },
  {
   "cell_type": "code",
   "execution_count": 4,
   "metadata": {},
   "outputs": [
    {
     "data": {
      "text/plain": [
       "531.2155500475544"
      ]
     },
     "execution_count": 4,
     "metadata": {},
     "output_type": "execute_result"
    }
   ],
   "source": [
    "# Média das notas de linguagem e comunicação de todos os alunos\n",
    "pd.to_numeric(enem.NU_NOTA_LC).mean()"
   ]
  },
  {
   "cell_type": "code",
   "execution_count": 10,
   "metadata": {},
   "outputs": [
    {
     "data": {
      "text/plain": [
       "515.1270983575349"
      ]
     },
     "execution_count": 10,
     "metadata": {},
     "output_type": "execute_result"
    }
   ],
   "source": [
    "# Média das notas de ciências humanas de todas as alunas do sexo feminino\n",
    "pd.to_numeric(enem.NU_NOTA_CH.loc[enem.TP_SEXO == 'F']).mean()"
   ]
  },
  {
   "cell_type": "code",
   "execution_count": 11,
   "metadata": {},
   "outputs": [
    {
     "data": {
      "text/plain": [
       "529.6982704731574"
      ]
     },
     "execution_count": 11,
     "metadata": {},
     "output_type": "execute_result"
    }
   ],
   "source": [
    "# Média das notas de ciências humanas de todas as alunas do sexo masculino\n",
    "pd.to_numeric(enem.NU_NOTA_CH.loc[enem.TP_SEXO == 'M']).mean()"
   ]
  },
  {
   "cell_type": "code",
   "execution_count": 19,
   "metadata": {},
   "outputs": [
    {
     "data": {
      "text/plain": [
       "525.4776724249901"
      ]
     },
     "execution_count": 19,
     "metadata": {},
     "output_type": "execute_result"
    }
   ],
   "source": [
    "# Média das notas de matemática de todas as alunas do sexo feminino que moram em Montes Claros\n",
    "pd.to_numeric(enem.NU_NOTA_MT.loc[(enem.TP_SEXO == 'F') & (enem.NO_MUNICIPIO_RESIDENCIA == 'Montes Claros')]).mean()"
   ]
  },
  {
   "cell_type": "code",
   "execution_count": 23,
   "metadata": {},
   "outputs": [
    {
     "data": {
      "text/plain": [
       "543.2927556818183"
      ]
     },
     "execution_count": 23,
     "metadata": {},
     "output_type": "execute_result"
    }
   ],
   "source": [
    "# Média das notas de matemática de todos os alunos do município de Sabará\n",
    "# e possuem TV por assinatura\n",
    "pd.to_numeric(enem.NU_NOTA_MT.loc[(enem.NO_MUNICIPIO_RESIDENCIA == 'Sabará') & (enem.Q021 == 'B')]).mean()"
   ]
  },
  {
   "cell_type": "code",
   "execution_count": 24,
   "metadata": {},
   "outputs": [
    {
     "data": {
      "text/plain": [
       "557.2765986394558"
      ]
     },
     "execution_count": 24,
     "metadata": {},
     "output_type": "execute_result"
    }
   ],
   "source": [
    "# Média das notas de ciencias humanas de todos os alunos que possuem dois microondas em casa\n",
    "pd.to_numeric(enem.NU_NOTA_CH.loc[enem.Q016 == 'C']).mean()"
   ]
  },
  {
   "cell_type": "code",
   "execution_count": 27,
   "metadata": {},
   "outputs": [
    {
     "data": {
      "text/plain": [
       "620.007062070985"
      ]
     },
     "execution_count": 27,
     "metadata": {},
     "output_type": "execute_result"
    }
   ],
   "source": [
    "# Média das notas de matemática cuja mãe completou a pós-graduação\n",
    "pd.to_numeric(enem.NU_NOTA_MT.loc[enem.Q002 == 'G']).mean()"
   ]
  },
  {
   "cell_type": "code",
   "execution_count": 37,
   "metadata": {},
   "outputs": [
    {
     "data": {
      "text/plain": [
       "578.0392265100068"
      ]
     },
     "execution_count": 37,
     "metadata": {},
     "output_type": "execute_result"
    }
   ],
   "source": [
    "# Média das notas de matemática para alunos que morão em Belo Horizonte ou Conselheiro Lafaiete\n",
    "pd.to_numeric(enem.NU_NOTA_MT.loc[(enem.NO_MUNICIPIO_RESIDENCIA == 'Belo Horizonte') | \n",
    "                                  (enem.NO_MUNICIPIO_RESIDENCIA == 'Conselheiro Lafaiete')]).mean()"
   ]
  },
  {
   "cell_type": "code",
   "execution_count": 45,
   "metadata": {},
   "outputs": [
    {
     "data": {
      "text/plain": [
       "534.4573388609205"
      ]
     },
     "execution_count": 45,
     "metadata": {},
     "output_type": "execute_result"
    }
   ],
   "source": [
    "# Média das notas de ciencias humanas dos alunos que moram sozinhos\n",
    "pd.to_numeric(enem.loc[enem.Q005 == 1, \n",
    "                      'NU_NOTA_CH']).mean()"
   ]
  },
  {
   "cell_type": "code",
   "execution_count": 48,
   "metadata": {},
   "outputs": [
    {
     "data": {
      "text/plain": [
       "586.7231663685159"
      ]
     },
     "execution_count": 48,
     "metadata": {},
     "output_type": "execute_result"
    }
   ],
   "source": [
    "# Média das notas de ciencias humanas dos alunos cujo pai completou pós-graduação\n",
    "# e possui renda familiar entre R$ 8.982,01 e R$ 9.980,00. \n",
    "pd.to_numeric(enem.loc[(enem.Q001 == 'G') &\n",
    "                      (enem.Q006 == 'M'),\n",
    "                      'NU_NOTA_CH']).mean()"
   ]
  },
  {
   "cell_type": "code",
   "execution_count": 52,
   "metadata": {},
   "outputs": [
    {
     "data": {
      "text/plain": [
       "510.80950782997775"
      ]
     },
     "execution_count": 52,
     "metadata": {},
     "output_type": "execute_result"
    }
   ],
   "source": [
    "# Média das notas de matemática para alunas do sexo feminino que moram em Lavras\n",
    "# e que escolheram espanhol como lingua estrangeira\n",
    "pd.to_numeric(enem.loc[(enem.TP_SEXO == 'F') &\n",
    "                      (enem.NO_MUNICIPIO_RESIDENCIA == 'Lavras') &\n",
    "                      (enem.TP_LINGUA == 1),\n",
    "                      'NU_NOTA_MT']).mean()"
   ]
  },
  {
   "cell_type": "code",
   "execution_count": 54,
   "metadata": {},
   "outputs": [
    {
     "data": {
      "text/plain": [
       "555.0832520325198"
      ]
     },
     "execution_count": 54,
     "metadata": {},
     "output_type": "execute_result"
    }
   ],
   "source": [
    "# Média das notas de matemática para alunos do sexo masculino que moram em Ouro Preto\n",
    "pd.to_numeric(enem.loc[(enem.TP_SEXO == 'M') &\n",
    "                      (enem.NO_MUNICIPIO_RESIDENCIA == 'Ouro Preto'),\n",
    "                      'NU_NOTA_MT']).mean()"
   ]
  },
  {
   "cell_type": "code",
   "execution_count": 55,
   "metadata": {},
   "outputs": [
    {
     "data": {
      "text/plain": [
       "435.38796296296283"
      ]
     },
     "execution_count": 55,
     "metadata": {},
     "output_type": "execute_result"
    }
   ],
   "source": [
    "# Média das notas de ciencias humanas para alunos surdos\n",
    "pd.to_numeric(enem.loc[enem.IN_SURDEZ == 1, \n",
    "                      'NU_NOTA_CH']).mean()"
   ]
  },
  {
   "cell_type": "code",
   "execution_count": 58,
   "metadata": {},
   "outputs": [
    {
     "data": {
      "text/plain": [
       "582.1935483870968"
      ]
     },
     "execution_count": 58,
     "metadata": {},
     "output_type": "execute_result"
    }
   ],
   "source": [
    "# Média das notas de matemática para alunas do sexo feminino que moram em\n",
    "# Belo Horizonte, Sabará, Nova Lima ou Betim e possuem dislexia\n",
    "pd.to_numeric(enem.loc[(enem.TP_SEXO == 'F') &\n",
    "                      (\n",
    "                          (enem.NO_MUNICIPIO_RESIDENCIA == 'Belo Horizonte') |\n",
    "                          (enem.NO_MUNICIPIO_RESIDENCIA == 'Sabará') |\n",
    "                          (enem.NO_MUNICIPIO_RESIDENCIA == 'Nova Lima') |\n",
    "                          (enem.NO_MUNICIPIO_RESIDENCIA == 'Betim')\n",
    "                      ) &\n",
    "                      (enem.IN_DISLEXIA == 1),\n",
    "                      'NU_NOTA_MT']).mean()"
   ]
  },
  {
   "cell_type": "code",
   "execution_count": null,
   "metadata": {},
   "outputs": [],
   "source": []
  }
 ],
 "metadata": {
  "kernelspec": {
   "display_name": "Python 3",
   "language": "python",
   "name": "python3"
  },
  "language_info": {
   "codemirror_mode": {
    "name": "ipython",
    "version": 3
   },
   "file_extension": ".py",
   "mimetype": "text/x-python",
   "name": "python",
   "nbconvert_exporter": "python",
   "pygments_lexer": "ipython3",
   "version": "3.8.5"
  }
 },
 "nbformat": 4,
 "nbformat_minor": 4
}
