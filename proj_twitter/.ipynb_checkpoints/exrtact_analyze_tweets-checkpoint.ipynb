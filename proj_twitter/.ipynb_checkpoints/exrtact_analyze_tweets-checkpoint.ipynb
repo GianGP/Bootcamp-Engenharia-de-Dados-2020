{
 "cells": [
  {
   "cell_type": "markdown",
   "metadata": {},
   "source": [
    "# Extrai Tweets"
   ]
  },
  {
   "cell_type": "code",
   "execution_count": 1,
   "metadata": {
    "scrolled": true
   },
   "outputs": [
    {
     "name": "stdout",
     "output_type": "stream",
     "text": [
      "Collecting tweepy\n",
      "  Downloading tweepy-3.9.0-py2.py3-none-any.whl (30 kB)\n",
      "Collecting datetime\n",
      "  Downloading DateTime-4.3-py2.py3-none-any.whl (60 kB)\n",
      "Collecting requests-oauthlib>=0.7.0\n",
      "  Downloading requests_oauthlib-1.3.0-py2.py3-none-any.whl (23 kB)\n",
      "Requirement already satisfied: requests[socks]>=2.11.1 in c:\\users\\giang\\anaconda3\\lib\\site-packages (from tweepy) (2.24.0)\n",
      "Requirement already satisfied: six>=1.10.0 in c:\\users\\giang\\anaconda3\\lib\\site-packages (from tweepy) (1.15.0)\n",
      "Requirement already satisfied: zope.interface in c:\\users\\giang\\anaconda3\\lib\\site-packages (from datetime) (5.1.2)\n",
      "Requirement already satisfied: pytz in c:\\users\\giang\\anaconda3\\lib\\site-packages (from datetime) (2020.1)\n",
      "Collecting oauthlib>=3.0.0\n",
      "  Downloading oauthlib-3.1.0-py2.py3-none-any.whl (147 kB)\n",
      "Requirement already satisfied: urllib3!=1.25.0,!=1.25.1,<1.26,>=1.21.1 in c:\\users\\giang\\anaconda3\\lib\\site-packages (from requests[socks]>=2.11.1->tweepy) (1.25.11)\n",
      "Requirement already satisfied: idna<3,>=2.5 in c:\\users\\giang\\anaconda3\\lib\\site-packages (from requests[socks]>=2.11.1->tweepy) (2.10)\n",
      "Requirement already satisfied: chardet<4,>=3.0.2 in c:\\users\\giang\\anaconda3\\lib\\site-packages (from requests[socks]>=2.11.1->tweepy) (3.0.4)\n",
      "Requirement already satisfied: certifi>=2017.4.17 in c:\\users\\giang\\anaconda3\\lib\\site-packages (from requests[socks]>=2.11.1->tweepy) (2020.6.20)\n",
      "Requirement already satisfied: PySocks!=1.5.7,>=1.5.6; extra == \"socks\" in c:\\users\\giang\\anaconda3\\lib\\site-packages (from requests[socks]>=2.11.1->tweepy) (1.7.1)\n",
      "Requirement already satisfied: setuptools in c:\\users\\giang\\anaconda3\\lib\\site-packages (from zope.interface->datetime) (50.3.1.post20201107)\n",
      "Installing collected packages: oauthlib, requests-oauthlib, tweepy, datetime\n",
      "Successfully installed datetime-4.3 oauthlib-3.1.0 requests-oauthlib-1.3.0 tweepy-3.9.0\n"
     ]
    }
   ],
   "source": [
    "!pip install tweepy datetime"
   ]
  },
  {
   "cell_type": "markdown",
   "metadata": {},
   "source": [
    "## Play!"
   ]
  },
  {
   "cell_type": "code",
   "execution_count": 3,
   "metadata": {},
   "outputs": [
    {
     "name": "stdout",
     "output_type": "stream",
     "text": [
      "^C\n"
     ]
    }
   ],
   "source": [
    "!python get_tweets.py"
   ]
  },
  {
   "cell_type": "markdown",
   "metadata": {},
   "source": [
    "# Entendo JSON"
   ]
  },
  {
   "cell_type": "code",
   "execution_count": 1,
   "metadata": {},
   "outputs": [],
   "source": [
    "import json"
   ]
  },
  {
   "cell_type": "code",
   "execution_count": 4,
   "metadata": {},
   "outputs": [],
   "source": [
    "# Abrir arquivo json de tweets e ler as linhas\n",
    "with open('collected_tweets_2020-11-29-11-44-46.txt', 'r') as file:\n",
    "    tweets = file.readlines()"
   ]
  },
  {
   "cell_type": "code",
   "execution_count": 5,
   "metadata": {},
   "outputs": [],
   "source": [
    "# Cria arquivo json com apenas o primeiro tweet dentro do arquivo de texto\n",
    "with open('tweets.json', 'w') as f:\n",
    "    json.dump(\n",
    "        json.loads(json.loads(tweets[0])), \n",
    "        f\n",
    "    )"
   ]
  },
  {
   "cell_type": "code",
   "execution_count": 6,
   "metadata": {
    "collapsed": true,
    "jupyter": {
     "outputs_hidden": true
    }
   },
   "outputs": [
    {
     "data": {
      "text/plain": [
       "{'created_at': 'Sun Nov 29 14:44:44 +0000 2020',\n",
       " 'id': 1333059323258413058,\n",
       " 'id_str': '1333059323258413058',\n",
       " 'text': 'Because then we wouldn’t allow any of the Republicans in office to be there.',\n",
       " 'source': '<a href=\"http://twitter.com/#!/download/ipad\" rel=\"nofollow\">Twitter for iPad</a>',\n",
       " 'truncated': False,\n",
       " 'in_reply_to_status_id': None,\n",
       " 'in_reply_to_status_id_str': None,\n",
       " 'in_reply_to_user_id': None,\n",
       " 'in_reply_to_user_id_str': None,\n",
       " 'in_reply_to_screen_name': None,\n",
       " 'user': {'id': 1066170467378180096,\n",
       "  'id_str': '1066170467378180096',\n",
       "  'name': 'Tracey Williams',\n",
       "  'screen_name': 'tlcwilliams80',\n",
       "  'location': 'Tennessee, USA',\n",
       "  'url': None,\n",
       "  'description': None,\n",
       "  'translator_type': 'none',\n",
       "  'protected': False,\n",
       "  'verified': False,\n",
       "  'followers_count': 35,\n",
       "  'friends_count': 99,\n",
       "  'listed_count': 0,\n",
       "  'favourites_count': 50183,\n",
       "  'statuses_count': 17854,\n",
       "  'created_at': 'Sat Nov 24 03:23:42 +0000 2018',\n",
       "  'utc_offset': None,\n",
       "  'time_zone': None,\n",
       "  'geo_enabled': False,\n",
       "  'lang': None,\n",
       "  'contributors_enabled': False,\n",
       "  'is_translator': False,\n",
       "  'profile_background_color': 'F5F8FA',\n",
       "  'profile_background_image_url': '',\n",
       "  'profile_background_image_url_https': '',\n",
       "  'profile_background_tile': False,\n",
       "  'profile_link_color': '1DA1F2',\n",
       "  'profile_sidebar_border_color': 'C0DEED',\n",
       "  'profile_sidebar_fill_color': 'DDEEF6',\n",
       "  'profile_text_color': '333333',\n",
       "  'profile_use_background_image': True,\n",
       "  'profile_image_url': 'http://abs.twimg.com/sticky/default_profile_images/default_profile_normal.png',\n",
       "  'profile_image_url_https': 'https://abs.twimg.com/sticky/default_profile_images/default_profile_normal.png',\n",
       "  'default_profile': True,\n",
       "  'default_profile_image': False,\n",
       "  'following': None,\n",
       "  'follow_request_sent': None,\n",
       "  'notifications': None},\n",
       " 'geo': None,\n",
       " 'coordinates': None,\n",
       " 'place': None,\n",
       " 'contributors': None,\n",
       " 'quoted_status_id': 1332995939020095490,\n",
       " 'quoted_status_id_str': '1332995939020095490',\n",
       " 'quoted_status': {'created_at': 'Sun Nov 29 10:32:52 +0000 2020',\n",
       "  'id': 1332995939020095490,\n",
       "  'id_str': '1332995939020095490',\n",
       "  'text': '@yourauntemma @yourauntemma and others predicted  the consequences of a Trump presidency with 100% accuracy. Why do… https://t.co/NXSOvWS40o',\n",
       "  'display_text_range': [14, 140],\n",
       "  'source': '<a href=\"https://mobile.twitter.com\" rel=\"nofollow\">Twitter Web App</a>',\n",
       "  'truncated': True,\n",
       "  'in_reply_to_status_id': 1332935424747184129,\n",
       "  'in_reply_to_status_id_str': '1332935424747184129',\n",
       "  'in_reply_to_user_id': 734269853318647808,\n",
       "  'in_reply_to_user_id_str': '734269853318647808',\n",
       "  'in_reply_to_screen_name': 'yourauntemma',\n",
       "  'user': {'id': 1274786221118480384,\n",
       "   'id_str': '1274786221118480384',\n",
       "   'name': 'Maureen Conrad',\n",
       "   'screen_name': 'MaureenConrad10',\n",
       "   'location': 'Tucson, Arizona',\n",
       "   'url': None,\n",
       "   'description': None,\n",
       "   'translator_type': 'none',\n",
       "   'protected': False,\n",
       "   'verified': False,\n",
       "   'followers_count': 7,\n",
       "   'friends_count': 74,\n",
       "   'listed_count': 0,\n",
       "   'favourites_count': 309,\n",
       "   'statuses_count': 415,\n",
       "   'created_at': 'Sun Jun 21 19:29:05 +0000 2020',\n",
       "   'utc_offset': None,\n",
       "   'time_zone': None,\n",
       "   'geo_enabled': False,\n",
       "   'lang': None,\n",
       "   'contributors_enabled': False,\n",
       "   'is_translator': False,\n",
       "   'profile_background_color': 'F5F8FA',\n",
       "   'profile_background_image_url': '',\n",
       "   'profile_background_image_url_https': '',\n",
       "   'profile_background_tile': False,\n",
       "   'profile_link_color': '1DA1F2',\n",
       "   'profile_sidebar_border_color': 'C0DEED',\n",
       "   'profile_sidebar_fill_color': 'DDEEF6',\n",
       "   'profile_text_color': '333333',\n",
       "   'profile_use_background_image': True,\n",
       "   'profile_image_url': 'http://pbs.twimg.com/profile_images/1308137956952080384/Pr_Ir5Zs_normal.jpg',\n",
       "   'profile_image_url_https': 'https://pbs.twimg.com/profile_images/1308137956952080384/Pr_Ir5Zs_normal.jpg',\n",
       "   'default_profile': True,\n",
       "   'default_profile_image': False,\n",
       "   'following': None,\n",
       "   'follow_request_sent': None,\n",
       "   'notifications': None},\n",
       "  'geo': None,\n",
       "  'coordinates': None,\n",
       "  'place': None,\n",
       "  'contributors': None,\n",
       "  'is_quote_status': False,\n",
       "  'extended_tweet': {'full_text': \"@yourauntemma @yourauntemma and others predicted  the consequences of a Trump presidency with 100% accuracy. Why don't we listen to mental health professionals?\",\n",
       "   'display_text_range': [14, 160],\n",
       "   'entities': {'hashtags': [],\n",
       "    'urls': [],\n",
       "    'user_mentions': [{'screen_name': 'yourauntemma',\n",
       "      'name': 'Elizabeth Mika',\n",
       "      'id': 734269853318647808,\n",
       "      'id_str': '734269853318647808',\n",
       "      'indices': [0, 13]},\n",
       "     {'screen_name': 'yourauntemma',\n",
       "      'name': 'Elizabeth Mika',\n",
       "      'id': 734269853318647808,\n",
       "      'id_str': '734269853318647808',\n",
       "      'indices': [14, 27]}],\n",
       "    'symbols': []}},\n",
       "  'quote_count': 0,\n",
       "  'reply_count': 5,\n",
       "  'retweet_count': 3,\n",
       "  'favorite_count': 47,\n",
       "  'entities': {'hashtags': [],\n",
       "   'urls': [{'url': 'https://t.co/NXSOvWS40o',\n",
       "     'expanded_url': 'https://twitter.com/i/web/status/1332995939020095490',\n",
       "     'display_url': 'twitter.com/i/web/status/1…',\n",
       "     'indices': [117, 140]}],\n",
       "   'user_mentions': [{'screen_name': 'yourauntemma',\n",
       "     'name': 'Elizabeth Mika',\n",
       "     'id': 734269853318647808,\n",
       "     'id_str': '734269853318647808',\n",
       "     'indices': [0, 13]},\n",
       "    {'screen_name': 'yourauntemma',\n",
       "     'name': 'Elizabeth Mika',\n",
       "     'id': 734269853318647808,\n",
       "     'id_str': '734269853318647808',\n",
       "     'indices': [14, 27]}],\n",
       "   'symbols': []},\n",
       "  'favorited': False,\n",
       "  'retweeted': False,\n",
       "  'filter_level': 'low',\n",
       "  'lang': 'en'},\n",
       " 'quoted_status_permalink': {'url': 'https://t.co/M48MTXwvuV',\n",
       "  'expanded': 'https://twitter.com/maureenconrad10/status/1332995939020095490',\n",
       "  'display': 'twitter.com/maureenconrad1…'},\n",
       " 'is_quote_status': True,\n",
       " 'quote_count': 0,\n",
       " 'reply_count': 0,\n",
       " 'retweet_count': 0,\n",
       " 'favorite_count': 0,\n",
       " 'entities': {'hashtags': [], 'urls': [], 'user_mentions': [], 'symbols': []},\n",
       " 'favorited': False,\n",
       " 'retweeted': False,\n",
       " 'filter_level': 'low',\n",
       " 'lang': 'en',\n",
       " 'timestamp_ms': '1606661084366'}"
      ]
     },
     "execution_count": 6,
     "metadata": {},
     "output_type": "execute_result"
    }
   ],
   "source": [
    "# Faz o parsing do primeiro tweet no arquivo de texto\n",
    "json.loads(\n",
    "    json.loads(tweets[0])\n",
    ")"
   ]
  },
  {
   "cell_type": "code",
   "execution_count": 7,
   "metadata": {},
   "outputs": [],
   "source": [
    "parsed_tweets = [json.loads(json.loads(i)) for i in tweets]"
   ]
  },
  {
   "cell_type": "code",
   "execution_count": 9,
   "metadata": {},
   "outputs": [
    {
     "data": {
      "text/plain": [
       "45136"
      ]
     },
     "execution_count": 9,
     "metadata": {},
     "output_type": "execute_result"
    }
   ],
   "source": [
    "# Quantidade de tweets coletados\n",
    "len(parsed_tweets)"
   ]
  },
  {
   "cell_type": "markdown",
   "metadata": {},
   "source": [
    "# Acessando as chaves do JSON"
   ]
  },
  {
   "cell_type": "code",
   "execution_count": 10,
   "metadata": {},
   "outputs": [],
   "source": [
    "primeirotweet = parsed_tweets[0]"
   ]
  },
  {
   "cell_type": "code",
   "execution_count": 11,
   "metadata": {},
   "outputs": [
    {
     "data": {
      "text/plain": [
       "'Because then we wouldn’t allow any of the Republicans in office to be there.'"
      ]
     },
     "execution_count": 11,
     "metadata": {},
     "output_type": "execute_result"
    }
   ],
   "source": [
    "# Acessa o texto do tweet\n",
    "# Chave de primeiro nível\n",
    "primeirotweet[\"text\"]"
   ]
  },
  {
   "cell_type": "code",
   "execution_count": 14,
   "metadata": {},
   "outputs": [
    {
     "data": {
      "text/plain": [
       "{'id': 1066170467378180096,\n",
       " 'id_str': '1066170467378180096',\n",
       " 'name': 'Tracey Williams',\n",
       " 'screen_name': 'tlcwilliams80',\n",
       " 'location': 'Tennessee, USA',\n",
       " 'url': None,\n",
       " 'description': None,\n",
       " 'translator_type': 'none',\n",
       " 'protected': False,\n",
       " 'verified': False,\n",
       " 'followers_count': 35,\n",
       " 'friends_count': 99,\n",
       " 'listed_count': 0,\n",
       " 'favourites_count': 50183,\n",
       " 'statuses_count': 17854,\n",
       " 'created_at': 'Sat Nov 24 03:23:42 +0000 2018',\n",
       " 'utc_offset': None,\n",
       " 'time_zone': None,\n",
       " 'geo_enabled': False,\n",
       " 'lang': None,\n",
       " 'contributors_enabled': False,\n",
       " 'is_translator': False,\n",
       " 'profile_background_color': 'F5F8FA',\n",
       " 'profile_background_image_url': '',\n",
       " 'profile_background_image_url_https': '',\n",
       " 'profile_background_tile': False,\n",
       " 'profile_link_color': '1DA1F2',\n",
       " 'profile_sidebar_border_color': 'C0DEED',\n",
       " 'profile_sidebar_fill_color': 'DDEEF6',\n",
       " 'profile_text_color': '333333',\n",
       " 'profile_use_background_image': True,\n",
       " 'profile_image_url': 'http://abs.twimg.com/sticky/default_profile_images/default_profile_normal.png',\n",
       " 'profile_image_url_https': 'https://abs.twimg.com/sticky/default_profile_images/default_profile_normal.png',\n",
       " 'default_profile': True,\n",
       " 'default_profile_image': False,\n",
       " 'following': None,\n",
       " 'follow_request_sent': None,\n",
       " 'notifications': None}"
      ]
     },
     "execution_count": 14,
     "metadata": {},
     "output_type": "execute_result"
    }
   ],
   "source": [
    "# Acessando chave user\n",
    "primeirotweet['user']"
   ]
  },
  {
   "cell_type": "code",
   "execution_count": 15,
   "metadata": {},
   "outputs": [
    {
     "data": {
      "text/plain": [
       "'tlcwilliams80'"
      ]
     },
     "execution_count": 15,
     "metadata": {},
     "output_type": "execute_result"
    }
   ],
   "source": [
    "# Acessando screen name do usuário\n",
    "primeirotweet['user']['screen_name']"
   ]
  },
  {
   "cell_type": "code",
   "execution_count": 22,
   "metadata": {},
   "outputs": [
    {
     "data": {
      "text/plain": [
       "'Maureen Conrad'"
      ]
     },
     "execution_count": 22,
     "metadata": {},
     "output_type": "execute_result"
    }
   ],
   "source": [
    "# Informação do tweet original\n",
    "primeirotweet['quoted_status']['user']['name']"
   ]
  },
  {
   "cell_type": "markdown",
   "metadata": {},
   "source": [
    "# Transformar tweets em estrutura relacional analisavel"
   ]
  },
  {
   "cell_type": "code",
   "execution_count": 23,
   "metadata": {},
   "outputs": [],
   "source": [
    "import pandas as pd"
   ]
  },
  {
   "cell_type": "code",
   "execution_count": null,
   "metadata": {},
   "outputs": [],
   "source": [
    "teste = pd.DataFrame(primeirotweet)\n",
    "teste\n",
    "# NÃO FUNCIONA!!"
   ]
  },
  {
   "cell_type": "code",
   "execution_count": 32,
   "metadata": {},
   "outputs": [],
   "source": [
    "df_tratado = pd.DataFrame(primeirotweet).reset_index(drop=True).iloc[:1]"
   ]
  },
  {
   "cell_type": "code",
   "execution_count": 33,
   "metadata": {},
   "outputs": [
    {
     "data": {
      "text/plain": [
       "Index(['created_at', 'id', 'id_str', 'text', 'source', 'truncated',\n",
       "       'in_reply_to_status_id', 'in_reply_to_status_id_str',\n",
       "       'in_reply_to_user_id', 'in_reply_to_user_id_str',\n",
       "       'in_reply_to_screen_name', 'user', 'geo', 'coordinates', 'place',\n",
       "       'contributors', 'quoted_status_id', 'quoted_status_id_str',\n",
       "       'quoted_status', 'quoted_status_permalink', 'is_quote_status',\n",
       "       'quote_count', 'reply_count', 'retweet_count', 'favorite_count',\n",
       "       'entities', 'favorited', 'retweeted', 'filter_level', 'lang',\n",
       "       'timestamp_ms'],\n",
       "      dtype='object')"
      ]
     },
     "execution_count": 33,
     "metadata": {},
     "output_type": "execute_result"
    }
   ],
   "source": [
    "df_tratado.columns"
   ]
  },
  {
   "cell_type": "code",
   "execution_count": 34,
   "metadata": {},
   "outputs": [],
   "source": [
    "df_tratado.drop(columns=['quote_count', 'reply_count', 'retweet_count', 'favorite_count',\n",
    "                         'favorited', 'retweeted', 'user', 'entities'], inplace=True)"
   ]
  },
  {
   "cell_type": "code",
   "execution_count": 35,
   "metadata": {},
   "outputs": [
    {
     "data": {
      "text/plain": [
       "Index(['created_at', 'id', 'id_str', 'text', 'source', 'truncated',\n",
       "       'in_reply_to_status_id', 'in_reply_to_status_id_str',\n",
       "       'in_reply_to_user_id', 'in_reply_to_user_id_str',\n",
       "       'in_reply_to_screen_name', 'geo', 'coordinates', 'place',\n",
       "       'contributors', 'quoted_status_id', 'quoted_status_id_str',\n",
       "       'quoted_status', 'quoted_status_permalink', 'is_quote_status',\n",
       "       'filter_level', 'lang', 'timestamp_ms'],\n",
       "      dtype='object')"
      ]
     },
     "execution_count": 35,
     "metadata": {},
     "output_type": "execute_result"
    }
   ],
   "source": [
    "df_tratado.columns"
   ]
  },
  {
   "cell_type": "code",
   "execution_count": null,
   "metadata": {},
   "outputs": [],
   "source": [
    "df_tratado['user_id'] = primeirotweet['user']['id']\n",
    "df_tratado['user_id_str'] = primeirotweet['user']['id_str']"
   ]
  }
 ],
 "metadata": {
  "kernelspec": {
   "display_name": "Python 3",
   "language": "python",
   "name": "python3"
  },
  "language_info": {
   "codemirror_mode": {
    "name": "ipython",
    "version": 3
   },
   "file_extension": ".py",
   "mimetype": "text/x-python",
   "name": "python",
   "nbconvert_exporter": "python",
   "pygments_lexer": "ipython3",
   "version": "3.8.5"
  }
 },
 "nbformat": 4,
 "nbformat_minor": 4
}
